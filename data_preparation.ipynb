{
 "cells": [
  {
   "cell_type": "code",
   "execution_count": 92,
   "metadata": {},
   "outputs": [],
   "source": [
    "import json\n",
    "import pandas as pd\n",
    "import numpy as np\n",
    "import collections \n"
   ]
  },
  {
   "cell_type": "code",
   "execution_count": 4,
   "metadata": {},
   "outputs": [],
   "source": [
    "data=json.load(open(r'data/docs/5922081.json'))"
   ]
  },
  {
   "cell_type": "code",
   "execution_count": 5,
   "metadata": {},
   "outputs": [
    {
     "data": {
      "text/plain": [
       "dict_keys(['company_info', 'api_data', 'other_details', 'topbox_information', 'jd_information', '_id'])"
      ]
     },
     "execution_count": 5,
     "metadata": {},
     "output_type": "execute_result"
    }
   ],
   "source": [
    "data.keys()"
   ]
  },
  {
   "cell_type": "code",
   "execution_count": 6,
   "metadata": {},
   "outputs": [
    {
     "data": {
      "text/plain": [
       "{'Company Description': \"cmts is engaged in the data entry outsourcing and supply of skilled/semi skilled &amp; unskilled Manpower across the industry spectrum. Our pool of manpower ranges from professionals such as Sales &amp; technical professionals in different categories, IT professionals, aviation sector, technical profiles, engineers, non-technical in-house professionals, administrative profiles, Accountant, HR, Back office, Data Entry Operator etc. Our organization's goal is total clients satisfaction through quality and personalized delivery of each and every service. We therefore exist to cater the need of these prospecting employers/companies since our inception in 2008.\",\n",
       " 'Email': 'hr@cmts.in',\n",
       " 'Company Name': 'CMTS (Core Management &amp; Technical Services)',\n",
       " 'Telephone': '9631857963'}"
      ]
     },
     "execution_count": 6,
     "metadata": {},
     "output_type": "execute_result"
    }
   ],
   "source": [
    "data['company_info']"
   ]
  },
  {
   "cell_type": "code",
   "execution_count": 61,
   "metadata": {},
   "outputs": [
    {
     "data": {
      "text/plain": [
       "{'job_location': ['Ludhiana'],\n",
       " 'jd_id': '5922081',\n",
       " 'job_keywords': ['Travel support Executive',\n",
       "  '  Travel executive at saanewaal location'],\n",
       " 'job_industry': 'Travel / Tourism',\n",
       " 'company_name': 'CMTS (Core Management & Technical Services)',\n",
       " 'job_experience': '2 to 4 Yrs',\n",
       " 'job_title': 'Travel support Executive, Travel executive at saanewaal location'}"
      ]
     },
     "execution_count": 61,
     "metadata": {},
     "output_type": "execute_result"
    }
   ],
   "source": [
    "data['api_data']"
   ]
  },
  {
   "cell_type": "code",
   "execution_count": 8,
   "metadata": {},
   "outputs": [
    {
     "data": {
      "text/plain": [
       "{'Other Skills:': ['Travel support Executive',\n",
       "  'Travel executive at saanewaal location'],\n",
       " 'Industry:': ['Travel / Tourism'],\n",
       " 'Department:': ['Customer Service (Domestic)',\n",
       "  'Technical Support / Helpdesk']}"
      ]
     },
     "execution_count": 8,
     "metadata": {},
     "output_type": "execute_result"
    }
   ],
   "source": [
    "data['other_details']"
   ]
  },
  {
   "cell_type": "code",
   "execution_count": 9,
   "metadata": {},
   "outputs": [
    {
     "data": {
      "text/plain": [
       "{'salary_information': 'Rs 2.0  - 3.0 Lakh/Yr'}"
      ]
     },
     "execution_count": 9,
     "metadata": {},
     "output_type": "execute_result"
    }
   ],
   "source": [
    "data['topbox_information']"
   ]
  },
  {
   "cell_type": "code",
   "execution_count": 10,
   "metadata": {},
   "outputs": [
    {
     "data": {
      "text/plain": [
       "{'description': 'Urgent positions for Travel Executive at Saanewaal Location, Ludhiana.&nbsp;Female candiadtes can only apply&nbsp;Post - Travel support ExecutiveExp-2-4 yearsSalary-15-25k/monthJob Detail-Excellent Communication SkillsKnowledge of excel, word, airport codes, culture is a plusAtleast 1-2 yrs of experience in local&nbsp; market.Ability to perform in different scopes of consulting projects in Travel industry - For e.g. Business/ IT/ Operating Strategy and Implementation, Process Transformation, Customer Relationship Management, Digital Strategy and Implementation- Possesses excellent communication (written and oral) skills and excellent presentation skills- Comfortable working with the highest levels of client organizations- Comfortable functioning in a broadly positioned and highly diverse consulting firm- Excellent team work and ability to work in distributed delivery environment.Intrested can call to Aditya kumar on 8527750087 or mail your cv on hr@cmts.in, cmts.hr@gmail.com&nbsp;'}"
      ]
     },
     "execution_count": 10,
     "metadata": {},
     "output_type": "execute_result"
    }
   ],
   "source": [
    "data['jd_information']"
   ]
  },
  {
   "cell_type": "code",
   "execution_count": 11,
   "metadata": {},
   "outputs": [
    {
     "data": {
      "text/plain": [
       "'5922081'"
      ]
     },
     "execution_count": 11,
     "metadata": {},
     "output_type": "execute_result"
    }
   ],
   "source": [
    "data['_id']"
   ]
  },
  {
   "cell_type": "markdown",
   "metadata": {},
   "source": [
    "# lets prepare data for each job category using json files corresponding to csv."
   ]
  },
  {
   "cell_type": "code",
   "execution_count": 12,
   "metadata": {},
   "outputs": [],
   "source": [
    "df=pd.read_csv('data/document_departments.csv')"
   ]
  },
  {
   "cell_type": "code",
   "execution_count": 40,
   "metadata": {},
   "outputs": [],
   "source": [
    "df= df.sort_values(by ='Department') \n"
   ]
  },
  {
   "cell_type": "code",
   "execution_count": 41,
   "metadata": {},
   "outputs": [
    {
     "data": {
      "text/plain": [
       "(30,)"
      ]
     },
     "execution_count": 41,
     "metadata": {},
     "output_type": "execute_result"
    }
   ],
   "source": [
    "df['Department'].unique().shape"
   ]
  },
  {
   "cell_type": "markdown",
   "metadata": {},
   "source": [
    "We have 30 classes so we will prepare data in such way that first column contains all the text data relevant to job and second column willbe class id."
   ]
  },
  {
   "cell_type": "code",
   "execution_count": 42,
   "metadata": {},
   "outputs": [],
   "source": [
    "classes=df['Department'].unique()"
   ]
  },
  {
   "cell_type": "code",
   "execution_count": 43,
   "metadata": {},
   "outputs": [],
   "source": [
    "classes=pd.Series(classes)"
   ]
  },
  {
   "cell_type": "code",
   "execution_count": 44,
   "metadata": {},
   "outputs": [],
   "source": [
    "dic={}\n",
    "for  i in range(len(classes)):\n",
    "    dic[classes[i]]=i"
   ]
  },
  {
   "cell_type": "code",
   "execution_count": 45,
   "metadata": {},
   "outputs": [
    {
     "data": {
      "text/plain": [
       "{'Administration': 0,\n",
       " 'Airline Ground Operations': 1,\n",
       " 'Analytics': 2,\n",
       " 'Back office ticketing': 3,\n",
       " 'Content': 4,\n",
       " 'Customer service': 5,\n",
       " 'Data entry': 6,\n",
       " 'Digital Marketing': 7,\n",
       " 'Engineering Design Construction': 8,\n",
       " 'Finance': 9,\n",
       " 'Flight Operations': 10,\n",
       " 'IT': 11,\n",
       " 'Learning and Development ': 12,\n",
       " 'Logistics': 13,\n",
       " 'Maintenance': 14,\n",
       " 'Management Consulting': 15,\n",
       " 'Marine Deck ': 16,\n",
       " 'Marine Engineering ': 17,\n",
       " 'Marine Service Steward ': 18,\n",
       " 'Marketing': 19,\n",
       " 'Operations': 20,\n",
       " 'Presales ': 21,\n",
       " 'Procurement': 22,\n",
       " 'Public Relations ': 23,\n",
       " 'QA ': 24,\n",
       " 'Recruitment': 25,\n",
       " 'Safety ': 26,\n",
       " 'Sales': 27,\n",
       " 'Technology': 28,\n",
       " 'Ticketing': 29}"
      ]
     },
     "execution_count": 45,
     "metadata": {},
     "output_type": "execute_result"
    }
   ],
   "source": [
    "dic"
   ]
  },
  {
   "cell_type": "code",
   "execution_count": 48,
   "metadata": {},
   "outputs": [],
   "source": [
    "class_ids=[]\n",
    "for i in range(len(df)):\n",
    "    class_ids.append(dic[df.iloc[i]['Department']])"
   ]
  },
  {
   "cell_type": "code",
   "execution_count": 50,
   "metadata": {},
   "outputs": [],
   "source": [
    "df['class_ids']=class_ids"
   ]
  },
  {
   "cell_type": "markdown",
   "metadata": {},
   "source": [
    "### We need to decide attributes important for training"
   ]
  },
  {
   "cell_type": "raw",
   "metadata": {},
   "source": [
    "company_info\n",
    "dict_keys(['Company Description', 'Email', 'Company Name', 'Telephone'])\n",
    "api_data\n",
    "dict_keys(['job_location', 'jd_id', 'job_keywords', 'job_industry', 'company_name', 'job_experience', 'job_title'])\n",
    "other_details\n",
    "dict_keys(['Other Skills:', 'Industry:', 'Department:'])\n",
    "topbox_information\n",
    "dict_keys(['salary_information'])\n",
    "jd_information\n",
    "dict_keys(['description'])"
   ]
  },
  {
   "cell_type": "raw",
   "metadata": {},
   "source": [
    "Important Attributes:\n",
    "1.Company Description\n",
    "2.Company Name\n",
    "3.job_keywords\n",
    "4.job_industry\n",
    "5.job_title\n",
    "6.other skills\n",
    "7.industry\n",
    "8.department\n",
    "9.salary information\n",
    "10.job description\n",
    "\n",
    "So these are ten attributes we will be using to classify job category out of those 30 classes.\n",
    "We can prepare a single text combining all these attributes."
   ]
  },
  {
   "cell_type": "code",
   "execution_count": 79,
   "metadata": {},
   "outputs": [],
   "source": [
    "textfile_sample=data['company_info']['Company Description']+'Comapany Name is %s.'%(data['company_info']['Company Name'])+'Job keywords are %s.'%(','.join(data['api_data']['job_keywords']))+'Job Industry is %s.'%(data['api_data']['job_industry'])+'Other skills required are %s.'%(','.join(data['other_details']['Other Skills:']))+'Job departments are %s.'%(','.join(data['other_details']['Department:']))+'Salary provided is %s.'%(data['topbox_information']['salary_information'])+'Job Description is as follows : %s.'%(data['jd_information']['description']) "
   ]
  },
  {
   "cell_type": "code",
   "execution_count": 80,
   "metadata": {},
   "outputs": [
    {
     "data": {
      "text/plain": [
       "\"cmts is engaged in the data entry outsourcing and supply of skilled/semi skilled &amp; unskilled Manpower across the industry spectrum. Our pool of manpower ranges from professionals such as Sales &amp; technical professionals in different categories, IT professionals, aviation sector, technical profiles, engineers, non-technical in-house professionals, administrative profiles, Accountant, HR, Back office, Data Entry Operator etc. Our organization's goal is total clients satisfaction through quality and personalized delivery of each and every service. We therefore exist to cater the need of these prospecting employers/companies since our inception in 2008.Comapany Name is CMTS (Core Management &amp; Technical Services).Job keywords are Travel support Executive,  Travel executive at saanewaal location.Job Industry is Travel / Tourism.Other skills required are Travel support Executive,Travel executive at saanewaal location.Job departments are Customer Service (Domestic),Technical Support / Helpdesk.Salary provided is Rs 2.0  - 3.0 Lakh/Yr.Job Description is as follows : Urgent positions for Travel Executive at Saanewaal Location, Ludhiana.&nbsp;Female candiadtes can only apply&nbsp;Post - Travel support ExecutiveExp-2-4 yearsSalary-15-25k/monthJob Detail-Excellent Communication SkillsKnowledge of excel, word, airport codes, culture is a plusAtleast 1-2 yrs of experience in local&nbsp; market.Ability to perform in different scopes of consulting projects in Travel industry - For e.g. Business/ IT/ Operating Strategy and Implementation, Process Transformation, Customer Relationship Management, Digital Strategy and Implementation- Possesses excellent communication (written and oral) skills and excellent presentation skills- Comfortable working with the highest levels of client organizations- Comfortable functioning in a broadly positioned and highly diverse consulting firm- Excellent team work and ability to work in distributed delivery environment.Intrested can call to Aditya kumar on 8527750087 or mail your cv on hr@cmts.in, cmts.hr@gmail.com&nbsp;.\""
      ]
     },
     "execution_count": 80,
     "metadata": {},
     "output_type": "execute_result"
    }
   ],
   "source": [
    "#So Our Combined text will look like this.\n",
    "textfile_sample"
   ]
  },
  {
   "cell_type": "markdown",
   "metadata": {},
   "source": [
    "## So now we will prepare same for ever job category json files."
   ]
  },
  {
   "cell_type": "code",
   "execution_count": 127,
   "metadata": {},
   "outputs": [],
   "source": [
    "def conversion_text(json_file):\n",
    "    data= collections.defaultdict(lambda : ' ', **json_file)\n",
    "    data['company_info']=collections.defaultdict(lambda : ' ', **data['company_info'])\n",
    "    data['api_data']=collections.defaultdict(lambda : ' ', **data['api_data'])\n",
    "    data['other_details']=collections.defaultdict(lambda : ' ', **data['other_details'])\n",
    "    data['topbox_information']=collections.defaultdict(lambda : ' ', **data['topbox_information'])\n",
    "    data['jd_information']=collections.defaultdict(lambda : ' ', **data['jd_information'])\n",
    "    textfile=data['company_info']['Company Description']+'Comapany Name is %s.'%(data['company_info']['Company Name'])+'Job keywords are %s.'%(','.join(data['api_data']['job_keywords']))+'Job Industry is %s.'%(data['api_data']['job_industry'])+'Other skills required are %s.'%(','.join(data['other_details']['Other Skills:']))+'Job departments are %s.'%(','.join(data['other_details']['Department:']))+'Salary provided is %s.'%(data['topbox_information']['salary_information'])+'Job Description is as follows : %s.'%(data['jd_information']['description'])  \n",
    "    return textfile"
   ]
  },
  {
   "cell_type": "code",
   "execution_count": 136,
   "metadata": {},
   "outputs": [],
   "source": [
    "textfiles=[]\n",
    "for i in range(len(df)):\n",
    "    json_file=json.load(open(r'data/docs/%s.json'%(df.loc[i]['Document ID'])))\n",
    "    text_file=conversion_text(json_file)\n",
    "    textfiles.append(text_file)"
   ]
  },
  {
   "cell_type": "code",
   "execution_count": 137,
   "metadata": {},
   "outputs": [
    {
     "data": {
      "text/plain": [
       "1162"
      ]
     },
     "execution_count": 137,
     "metadata": {},
     "output_type": "execute_result"
    }
   ],
   "source": [
    "len(textfiles)"
   ]
  },
  {
   "cell_type": "code",
   "execution_count": 138,
   "metadata": {},
   "outputs": [
    {
     "data": {
      "text/plain": [
       "'About Us- Unique Travelite Services Pvt. Ltd.UTS Is An ISO Certified Entity Listed On Ministry Of Corporate Affairs. Our Company Provides Best-In-Class Service In The Travel &amp; Tourism Sector Across WorldComapany Name is Unique Travelite Services Pvt. Ltd..Job keywords are marketing, sales, can,marketing management, full, from, advertising management, work, graduate, promotions activities, part, time, freshers, home, sales management.Job Industry is Travel / Tourism.Other skills required are marketing management,full,from,advertising management,work,graduate,promotions activities,part,time,freshers,home,sales management.Job departments are HR,Internet Marketing.Salary provided is Rs 3.0  - 6 Lakh/Yr.Job Description is as follows : Hello Readers,UTS Is An ISO Certified Entity Listed On Ministry Of Corporate Affairs. Our Company Provides Best-In-Class Service In The Travel &amp; Tourism Sector Across World. Besides This, UTS Envisions Providing Income Opportunity To Those People Who Are Passionate To Fulfill Their Dreams.&nbsp;We are Offering:-1. Extra Income.2. Financial Freedom.3. Have Own Business.4. More Spare Time.5. Personal Development.6. Helping Others.7. Meeting With New People.8. Early Retirement.9. Leave Legacy.10. Int.Travel.&nbsp;For More Contact Us:- 7678160989(Shahana)From HR Department&nbsp;.'"
      ]
     },
     "execution_count": 138,
     "metadata": {},
     "output_type": "execute_result"
    }
   ],
   "source": [
    "textfiles[345]"
   ]
  },
  {
   "cell_type": "code",
   "execution_count": 139,
   "metadata": {},
   "outputs": [],
   "source": [
    "df['text_file']=pd.Series(textfiles)"
   ]
  },
  {
   "cell_type": "code",
   "execution_count": 140,
   "metadata": {},
   "outputs": [
    {
     "data": {
      "text/html": [
       "<div>\n",
       "<style scoped>\n",
       "    .dataframe tbody tr th:only-of-type {\n",
       "        vertical-align: middle;\n",
       "    }\n",
       "\n",
       "    .dataframe tbody tr th {\n",
       "        vertical-align: top;\n",
       "    }\n",
       "\n",
       "    .dataframe thead th {\n",
       "        text-align: right;\n",
       "    }\n",
       "</style>\n",
       "<table border=\"1\" class=\"dataframe\">\n",
       "  <thead>\n",
       "    <tr style=\"text-align: right;\">\n",
       "      <th></th>\n",
       "      <th>Document ID</th>\n",
       "      <th>Department</th>\n",
       "      <th>class_ids</th>\n",
       "      <th>text_file</th>\n",
       "    </tr>\n",
       "  </thead>\n",
       "  <tbody>\n",
       "    <tr>\n",
       "      <th>1129</th>\n",
       "      <td>8366374</td>\n",
       "      <td>Administration</td>\n",
       "      <td>0</td>\n",
       "      <td>Comapany Name is Heraa international travel s...</td>\n",
       "    </tr>\n",
       "    <tr>\n",
       "      <th>578</th>\n",
       "      <td>8125246</td>\n",
       "      <td>Administration</td>\n",
       "      <td>0</td>\n",
       "      <td>Alliance Recruitment AgencyComapany Name is Al...</td>\n",
       "    </tr>\n",
       "    <tr>\n",
       "      <th>566</th>\n",
       "      <td>8203166</td>\n",
       "      <td>Administration</td>\n",
       "      <td>0</td>\n",
       "      <td>Comapany Name is Jobtrack Management Services...</td>\n",
       "    </tr>\n",
       "    <tr>\n",
       "      <th>543</th>\n",
       "      <td>8203252</td>\n",
       "      <td>Administration</td>\n",
       "      <td>0</td>\n",
       "      <td>Comapany Name is Jobtrack Management Services...</td>\n",
       "    </tr>\n",
       "    <tr>\n",
       "      <th>1109</th>\n",
       "      <td>8394452</td>\n",
       "      <td>Administration</td>\n",
       "      <td>0</td>\n",
       "      <td>Comapany Name is T.Y. Tours &amp;amp; Travels.Job...</td>\n",
       "    </tr>\n",
       "  </tbody>\n",
       "</table>\n",
       "</div>"
      ],
      "text/plain": [
       "      Document ID      Department  class_ids  \\\n",
       "1129      8366374  Administration          0   \n",
       "578       8125246  Administration          0   \n",
       "566       8203166  Administration          0   \n",
       "543       8203252  Administration          0   \n",
       "1109      8394452  Administration          0   \n",
       "\n",
       "                                              text_file  \n",
       "1129   Comapany Name is Heraa international travel s...  \n",
       "578   Alliance Recruitment AgencyComapany Name is Al...  \n",
       "566    Comapany Name is Jobtrack Management Services...  \n",
       "543    Comapany Name is Jobtrack Management Services...  \n",
       "1109   Comapany Name is T.Y. Tours &amp; Travels.Job...  "
      ]
     },
     "execution_count": 140,
     "metadata": {},
     "output_type": "execute_result"
    }
   ],
   "source": [
    "df.head()"
   ]
  },
  {
   "cell_type": "code",
   "execution_count": 141,
   "metadata": {},
   "outputs": [],
   "source": [
    "df.to_csv('prepared_data.csv',index=False)"
   ]
  },
  {
   "cell_type": "code",
   "execution_count": null,
   "metadata": {},
   "outputs": [],
   "source": []
  }
 ],
 "metadata": {
  "kernelspec": {
   "display_name": "Python 3",
   "language": "python",
   "name": "python3"
  },
  "language_info": {
   "codemirror_mode": {
    "name": "ipython",
    "version": 3
   },
   "file_extension": ".py",
   "mimetype": "text/x-python",
   "name": "python",
   "nbconvert_exporter": "python",
   "pygments_lexer": "ipython3",
   "version": "3.7.1"
  }
 },
 "nbformat": 4,
 "nbformat_minor": 2
}
